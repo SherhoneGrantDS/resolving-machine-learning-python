{
 "cells": [
  {
   "cell_type": "code",
   "execution_count": 1,
   "id": "00a3736c-4deb-4f5e-b0db-ff910d27e42a",
   "metadata": {},
   "outputs": [
    {
     "data": {
      "text/plain": [
       "1.5"
      ]
     },
     "execution_count": 1,
     "metadata": {},
     "output_type": "execute_result"
    }
   ],
   "source": [
    "432/288"
   ]
  },
  {
   "cell_type": "code",
   "execution_count": 4,
   "id": "f0c6fe59-f863-497a-8c7d-33bd4af88f15",
   "metadata": {},
   "outputs": [
    {
     "data": {
      "text/plain": [
       "1.7777777777777777"
      ]
     },
     "execution_count": 4,
     "metadata": {},
     "output_type": "execute_result"
    }
   ],
   "source": [
    "432/243"
   ]
  },
  {
   "cell_type": "code",
   "execution_count": 2,
   "id": "bfc308d5-c6b8-43b7-a864-521e5a2d8c5d",
   "metadata": {},
   "outputs": [
    {
     "data": {
      "text/plain": [
       "1.7777777777777777"
      ]
     },
     "execution_count": 2,
     "metadata": {},
     "output_type": "execute_result"
    }
   ],
   "source": [
    "1200/675"
   ]
  },
  {
   "cell_type": "code",
   "execution_count": 3,
   "id": "3f428e47-21aa-4877-8bfc-07db25360834",
   "metadata": {},
   "outputs": [
    {
     "data": {
      "text/plain": [
       "3.375"
      ]
     },
     "execution_count": 3,
     "metadata": {},
     "output_type": "execute_result"
    }
   ],
   "source": [
    "(6*675)/1200"
   ]
  },
  {
   "cell_type": "code",
   "execution_count": null,
   "id": "f29b62b3-a726-4456-8c41-d10d20d9abb5",
   "metadata": {},
   "outputs": [],
   "source": []
  }
 ],
 "metadata": {
  "kernelspec": {
   "display_name": "Python 3 (ipykernel)",
   "language": "python",
   "name": "python3"
  },
  "language_info": {
   "codemirror_mode": {
    "name": "ipython",
    "version": 3
   },
   "file_extension": ".py",
   "mimetype": "text/x-python",
   "name": "python",
   "nbconvert_exporter": "python",
   "pygments_lexer": "ipython3",
   "version": "3.10.6"
  }
 },
 "nbformat": 4,
 "nbformat_minor": 5
}
